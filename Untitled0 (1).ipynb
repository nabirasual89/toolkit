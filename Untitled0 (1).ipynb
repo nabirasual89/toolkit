{
  "nbformat": 4,
  "nbformat_minor": 0,
  "metadata": {
    "colab": {
      "provenance": []
    },
    "kernelspec": {
      "name": "python3",
      "display_name": "Python 3"
    },
    "language_info": {
      "name": "python"
    }
  },
  "cells": [
    {
      "cell_type": "markdown",
      "source": [
        "# **Data Toolkit**"
      ],
      "metadata": {
        "id": "QxbI_e9dgL1p"
      }
    },
    {
      "cell_type": "markdown",
      "source": [
        "1. What is Numpy, and why is it widely used in Python?\n",
        "\n",
        " - NumPy (Numerical Python) is a powerful open-source library in Python primarily used for numerical computations.\n",
        "\n",
        "\n",
        "Why it's widely used:\n",
        "\n",
        "Efficient Arrays:\n",
        "\n",
        "It provides the ndarray object — a fast, space-efficient multidimensional array.\n",
        "\n",
        "Vectorized Operations:\n",
        "\n",
        "Supports element-wise operations without the need for loops, making code faster and cleaner.\n",
        "\n",
        "Mathematical Functions:\n",
        "\n",
        "Offers a wide range of math functions like linear algebra, Fourier transforms, and random number generation.\n",
        "\n",
        "Interoperability:\n",
        "\n",
        "Works seamlessly with other libraries like Pandas, Matplotlib, SciPy, and TensorFlow.\n",
        "\n",
        "Memory Efficiency:\n",
        "\n",
        "Operations in NumPy use less memory compared to equivalent Python code using lists.\n",
        "\n",
        "C-backed Speed:\n",
        "\n",
        "Many NumPy operations are implemented in C, making them significantly faster than pure Python.\n",
        "\n",
        "In short: NumPy is the backbone of scientific computing and data analysis in Python.\n",
        "\n",
        "\n",
        "\n",
        "\n",
        "\n"
      ],
      "metadata": {
        "id": "kbwjyWyKgePq"
      }
    },
    {
      "cell_type": "markdown",
      "source": [
        "2. How does broadcasting work in Numpy?\n",
        " - Broadcasting in NumPy lets arrays with different shapes perform arithmetic operations together without explicitly copying data.\n",
        "\n",
        "How it works:\n",
        "When operating on two arrays, NumPy compares their shapes element-wise from the right. It follows these rules:\n",
        "\n",
        "If dimensions match, go ahead.\n",
        "\n",
        "If one of the dimensions is 1, it’s stretched to match the other.\n",
        "\n",
        "If dimensions don’t match and neither is 1, → Error.\n",
        "\n"
      ],
      "metadata": {
        "id": "1q-l-y_dgn6-"
      }
    },
    {
      "cell_type": "code",
      "source": [
        "import numpy as np\n",
        "\n",
        "a = np.array([1, 2, 3])        # Shape: (3,)\n",
        "b = np.array([[10], [20]])     # Shape: (2, 1)\n",
        "\n",
        "result = a + b\n"
      ],
      "metadata": {
        "id": "um3T9ksq7oq2"
      },
      "execution_count": null,
      "outputs": []
    },
    {
      "cell_type": "markdown",
      "source": [
        "3. What is a Pandas DataFrame?\n",
        " - A Pandas DataFrame is a 2D, tabular data structure in Python — like a spreadsheet or SQL table.\n",
        "\n",
        "Key Features:\n",
        "Rows and Columns:\n",
        "Labeled axes (index for rows, column labels for columns).\n",
        "\n",
        "Heterogeneous Data:\n",
        "Each column can have a different data type (int, float, string, etc.).\n",
        "\n",
        "Powerful Tools:\n",
        "Filtering, sorting, grouping, merging, and handling missing data."
      ],
      "metadata": {
        "id": "CjTMx7PggxIY"
      }
    },
    {
      "cell_type": "code",
      "source": [
        "import pandas as pd\n",
        "\n",
        "data = {\n",
        "    'Name': ['Alice', 'Bob', 'Charlie'],\n",
        "    'Age': [25, 30, 35],\n",
        "    'City': ['NY', 'LA', 'Chicago']\n",
        "}\n",
        "\n",
        "df = pd.DataFrame(data)\n"
      ],
      "metadata": {
        "id": "rXZ2w7mT8Cag"
      },
      "execution_count": null,
      "outputs": []
    },
    {
      "cell_type": "markdown",
      "source": [
        "4. Explain the use of the groupby() method in Pandas.\n",
        " - The groupby() Method in Pandas is used to group rows in a DataFrame based on the values in one or more columns. It follows a \"split-apply-combine\" strategy:\n",
        "\n",
        "Split:\n",
        "The DataFrame is split into groups based on the unique values in the specified column(s).\n",
        "\n",
        "Apply:\n",
        "A function is applied to each group independently. This can be an aggregation function (e.g., sum(), mean(), count()), a transformation function, or a filtering operation.\n",
        "\n",
        "Combine: The results from each group are combined into a new DataFrame or Series."
      ],
      "metadata": {
        "id": "HIBJv5Wog527"
      }
    },
    {
      "cell_type": "code",
      "source": [
        "import pandas as pd\n",
        "\n",
        "# Sample DataFrame\n",
        "data = {'Category': ['A', 'B', 'A', 'B', 'A'],\n",
        "        'Value': [10, 20, 15, 25, 12]}\n",
        "df = pd.DataFrame(data)\n",
        "\n",
        "# Group by 'Category' and calculate the sum of 'Value' for each group\n",
        "grouped_sum = df.groupby('Category')['Value'].sum()\n",
        "print(\"Sum of values, grouped by category:\\n\", grouped_sum)\n",
        "\n",
        "# Group by 'Category' and get the mean and standard deviation of 'Value'\n",
        "grouped_agg = df.groupby('Category')['Value'].agg(['mean', 'std'])\n",
        "print(\"\\nMean and standard deviation of values, grouped by category:\\n\", grouped_agg)\n",
        "\n",
        "# Group by 'Category' and filter groups with sum of 'Value' greater than 25\n",
        "filtered_groups = df.groupby('Category').filter(lambda x: x['Value'].sum() > 25)\n",
        "print(\"\\nFiltered groups with sum of values greater than 25:\\n\", filtered_groups)"
      ],
      "metadata": {
        "colab": {
          "base_uri": "https://localhost:8080/"
        },
        "id": "30AREJLn8qAb",
        "outputId": "e165ef99-d653-441e-ab69-5cfddb678f3b"
      },
      "execution_count": null,
      "outputs": [
        {
          "output_type": "stream",
          "name": "stdout",
          "text": [
            "Sum of values, grouped by category:\n",
            " Category\n",
            "A    37\n",
            "B    45\n",
            "Name: Value, dtype: int64\n",
            "\n",
            "Mean and standard deviation of values, grouped by category:\n",
            "                mean       std\n",
            "Category                     \n",
            "A         12.333333  2.516611\n",
            "B         22.500000  3.535534\n",
            "\n",
            "Filtered groups with sum of values greater than 25:\n",
            "   Category  Value\n",
            "0        A     10\n",
            "1        B     20\n",
            "2        A     15\n",
            "3        B     25\n",
            "4        A     12\n"
          ]
        }
      ]
    },
    {
      "cell_type": "markdown",
      "source": [
        "5. Why is Seaborn preferred for statistical visualizations?\n",
        " -  Seaborn is preferred for statistical visualizations because:\n",
        "\n",
        "Built-in statistical functions: It integrates well with Pandas and provides high-level functions like sns.regplot(), sns.boxplot(), and sns.violinplot() that handle statistical estimation, confidence intervals, and data aggregation.\n",
        "\n",
        "Beautiful default styles:\n",
        " Seaborn automatically applies attractive color palettes and styles, making plots look more polished without extra customization.\n",
        "\n",
        "Ease of use with complex plots:\n",
        " You can create complex plots like heatmaps, pair plots, and multi-plot grids (FacetGrid, catplot) with minimal code.\n",
        "\n",
        "Integration with Pandas:\n",
        " Seaborn works directly with DataFrames, allowing you to plot using column names without manual array slicing.\n",
        "\n",
        "Built-in support for categorical data:\n",
        " It simplifies the visualization of relationships between categorical and continuous variables.\n",
        "\n",
        "In short, Seaborn is ideal when you want quick, insightful, and good-looking statistical plots.\n",
        "\n",
        "\n",
        "\n",
        "\n",
        "\n",
        "\n",
        "\n",
        "\n"
      ],
      "metadata": {
        "id": "vXAx91tihEIb"
      }
    },
    {
      "cell_type": "markdown",
      "source": [
        "6. What are the differences between Numpy arrays and Python lists?\n",
        " - Here’s a concise comparison highlighting the key differences between NumPy arrays and Python lists:\n",
        "\n",
        "1. Memory Layout and Performance\n",
        "NumPy arrays store elements in a contiguous block of memory, enabling efficient access and vectorized operations that leverage low‑level optimizations\n",
        "Data Leads Future\n",
        ".\n",
        "Python lists hold pointers to separate Python objects scattered in memory, which adds overhead and slows down numerical computations\n",
        "Data Leads Future\n",
        ".\n",
        "As a result, element‑wise operations on large NumPy arrays can be orders of magnitude faster than equivalent Python list comprehensions\n",
        "Stack Overflow\n",
        ".\n",
        "\n",
        "2. Homogeneity vs. Heterogeneity\n",
        "All elements in a NumPy array must share the same data type (dtype), which allows compact storage and SIMD‑style execution\n",
        "Stack Overflow\n",
        ".\n",
        "Python lists can contain mixed data types in the same container (e.g., integers, strings, objects), offering flexibility but at the cost of slower performance\n",
        "Problem Solving with Python\n",
        ".\n",
        "\n",
        "3. Mutability and Resizing\n",
        "NumPy arrays have a fixed size once created; resizing (e.g., appending) creates a new array and discards the old one\n",
        "Stack Overflow\n",
        ".\n",
        "Python lists are dynamically resizable: appending or inserting elements modifies the list in place without reallocating the entire structure\n",
        "Enki\n",
        ".\n",
        "\n",
        "4. Built‑in Mathematical and Statistical Operations\n",
        "NumPy provides a comprehensive suite of vectorized mathematical functions (e.g., np.sin, np.dot) and supports broadcasting rules for operations on arrays of different shapes\n",
        "Wikipedia\n",
        ".\n",
        "Python lists lack native support for element‑wise arithmetic; you’d need loops or comprehensions, which are less efficient and more verbose\n",
        "SoloLearn\n",
        ".\n",
        "\n",
        "5. Indexing, Slicing, and Broadcasting\n",
        "NumPy arrays support advanced indexing (boolean masks, integer arrays) and multi‑dimensional slicing, enabling concise data selection and manipulation\n",
        "Wikipedia\n",
        ".\n",
        "Python lists allow only basic slicing (list[start:stop:step]) and do not support multi-dimensional or broadcasted operations out of the box\n",
        "GeeksforGeeks\n",
        ".\n",
        "\n",
        "6. Use Cases and Ecosystem Integration\n",
        "\n",
        "\n",
        "NumPy arrays are the de facto standard for numerical computing and seamlessly integrate with libraries like SciPy, pandas, and scikit‑learn\n",
        "Wikipedia\n",
        ".\n",
        "Python lists are ideal for general-purpose tasks, lightweight scripts, or heterogeneous collections where performance isn’t critical.\n",
        "LinkedIn\n",
        "."
      ],
      "metadata": {
        "id": "PBZqxhAChS_T"
      }
    },
    {
      "cell_type": "markdown",
      "source": [
        "7. What is a heatmap, and when should it be used?\n",
        " - A heatmap is a data visualization technique that uses color-coding to represent the magnitude of a variable across two dimensions. It's often used to visualize user behavior on websites, showing where users click, scroll, or hover, or to represent patterns in data like population density or temperatures.\n",
        "\n",
        "Here's a more detailed explanation:\n",
        "\n",
        "What it is:\n",
        "\n",
        "Heatmaps use a color gradient to show how a variable changes across different areas or categories. For example, a website heatmap might use warmer colors to indicate areas where users click more frequently, while cooler colors represent areas with less interaction.\n",
        "\n",
        "When to use it:\n",
        "\n",
        "Heatmaps are valuable for:\n",
        "\n",
        "Analyzing user behavior on websites: Identifying areas of high and low engagement, optimizing layouts, and improving user experience according to Optimizely.\n",
        "\n",
        "Representing geographical data: Visualizing population density, temperature variations, or other spatial patterns.\n",
        "\n",
        "Analyzing correlations between variables: Identifying relationships between different factors, such as stock prices or product performance.\n",
        "\n",
        "Improving business processes: Analyzing foot traffic in retail stores, optimizing production flow, or identifying areas for improvement.\n",
        "\n",
        "Simplifying complex data: Transforming intricate datasets into easily understandable visuals.\n",
        "\n",
        "Key features:\n",
        "\n",
        "Color gradients: Usually, warmer colors (like red, yellow) represent higher values, while cooler colors (like blue, green) represent lower values.\n",
        "\n",
        "Two-dimensional representation: Heatmaps typically display data across two axes, such as a grid of cells or a map with geographical coordinates.\n",
        "\n",
        "Intuitive visualization: They make it easy to quickly identify patterns, trends, and areas of interest within the data.\n"
      ],
      "metadata": {
        "id": "1X4MchLDhhnO"
      }
    },
    {
      "cell_type": "markdown",
      "source": [
        "8. What does the term \"vectorized operation\" mean in NumPy?\n",
        " - In NumPy, a vectorized operation refers to performing computations on entire arrays without the need for explicit loops. This approach leverages optimized, low-level implementations (typically in C) to execute operations more efficiently than standard Python loops.\n",
        "\n",
        " 🔍 What It Means\n",
        "\n",
        "Instead of processing elements one by one:"
      ],
      "metadata": {
        "id": "U0xI-9rthtUl"
      }
    },
    {
      "cell_type": "code",
      "source": [
        "result = []\n",
        "for i in range(len(a)):\n",
        "    result.append(a[i] + b[i])\n"
      ],
      "metadata": {
        "id": "NnbApNnc_1Ol"
      },
      "execution_count": null,
      "outputs": []
    },
    {
      "cell_type": "markdown",
      "source": [
        "You can perform the operation directly on arrays:"
      ],
      "metadata": {
        "id": "q1Up6IJc_pvM"
      }
    },
    {
      "cell_type": "code",
      "source": [
        "result = a + b\n"
      ],
      "metadata": {
        "id": "a40cBNub_uRk"
      },
      "execution_count": null,
      "outputs": []
    },
    {
      "cell_type": "code",
      "source": [
        "import numpy as np\n",
        "\n",
        "a = np.array([1, 2, 3])\n",
        "b = np.array([4, 5, 6])\n",
        "\n",
        "# Vectorized addition\n",
        "result = a + b  # Output: array([5, 7, 9])\n"
      ],
      "metadata": {
        "id": "L2s324k0AB2z"
      },
      "execution_count": null,
      "outputs": []
    },
    {
      "cell_type": "markdown",
      "source": [
        "9. How does Matplotlib differ from Plotly?\n",
        " - Matplotlib: Is often preferred for academic or highly customized plots because you can fine-tune just about any aspect of the figure—fonts, margins, axis scales, etc. Plotly: While still highly customizable, Plotly's real strength lies in interactivity and web-based visuals."
      ],
      "metadata": {
        "id": "t1Yvccoth_ku"
      }
    },
    {
      "cell_type": "markdown",
      "source": [
        "10. What is the significance of hierarchical indexing in Pandas?\n",
        " - Hierarchical indexing, also known as MultiIndex, is a significant feature in Pandas that enables the representation of higher-dimensional data within lower-dimensional data structures like Series (1D) and DataFrames (2D). It allows for multiple levels of indexing on an axis, providing a structured way to organize and manipulate complex datasets.\n",
        "\n",
        "The significance of hierarchical indexing lies in its ability to:\n",
        "\n",
        "Represent Multi-dimensional Data:\n",
        "\n",
        "It allows the representation of data with more than two dimensions in a DataFrame, which is inherently two-dimensional. This is useful for datasets with multiple levels of categorization or grouping.\n",
        "\n",
        "Enable Complex Data Queries:\n",
        "\n",
        "Hierarchical indexing facilitates more flexible and complex data queries. Data can be selected and subsetted based on multiple index levels, making it easier to extract specific information.\n",
        "\n",
        "Improve Data Organization:\n",
        "\n",
        "It provides a clear and structured way to organize data, especially when dealing with hierarchical relationships. This makes the data easier to understand and work with.\n",
        "\n",
        "Facilitate Grouping and Aggregation:\n",
        "\n",
        "Hierarchical indexing simplifies grouping and aggregation operations. Data can Be grouped based on multiple levels of the index, allowing for the calculation of summary statistics for different groups.\n",
        "\n",
        "Optimize Performance:\n",
        "\n",
        "In some cases, hierarchical indexing can improve query performance by allowing for more efficient data retrieval.\n",
        "\n",
        "For instance, imagine a dataset tracking sales data for different products across various regions and years. With hierarchical indexing, the DataFrame can be indexed by Region, Product, and Year, allowing for easy analysis of sales trends for a specific product in a particular region over time.\n",
        "Python\n",
        "\n"
      ],
      "metadata": {
        "id": "5qu1dHJ5iUAP"
      }
    },
    {
      "cell_type": "markdown",
      "source": [
        "11. What is the role of Seaborn's pairplot() function?\n",
        " - The pairplot() function in the Seaborn library serves to visualize relationships between multiple pairs of variables in a dataset. It generates a matrix of subplots, where each subplot displays the relationship between two different variables. The diagonal subplots typically show the distribution of a single variable, while the off-diagonal subplots show the relationship between two variables. This function is particularly useful in exploratory data analysis (EDA) for understanding the overall structure and potential relationships within a dataset. It helps identify patterns, trends, and correlations between variables, aiding in feature selection and model building."
      ],
      "metadata": {
        "id": "pDy9efqYih_a"
      }
    },
    {
      "cell_type": "markdown",
      "source": [
        "12. What is the purpose of the describe() function in Pandas?\n",
        " - The describe() function in Pandas provides descriptive statistics of a DataFrame or Series. It offers a concise summary of the data's central tendency, dispersion, and shape. By default, it analyzes numerical columns, but it can also handle categorical data.\n",
        "\n",
        "For numerical data, describe() returns:\n",
        "\n",
        "count: Number of non-null values.\n",
        "\n",
        "mean: Average value.\n",
        "\n",
        "std: Standard deviation.\n",
        "\n",
        "min: Minimum value.\n",
        "\n",
        "25%: First quartile (25th percentile).\n",
        "\n",
        "50%: Second quartile (50th percentile or median).\n",
        "\n",
        "75%: Third quartile (75th percentile).\n",
        "\n",
        "max: Maximum value.\n",
        "\n",
        "For categorical data, it returns:\n",
        "\n",
        "count: Number of non-null values.\n",
        "\n",
        "unique: Number of unique values.\n",
        "\n",
        "Top: Most frequent value.\n",
        "\n",
        "Freq: Frequency of the most frequent value.\n",
        "\n",
        "The describe() function is useful for initial data exploration, identifying outliers, and understanding data distribution."
      ],
      "metadata": {
        "id": "w_mLhWPjivdQ"
      }
    },
    {
      "cell_type": "markdown",
      "source": [
        "13. Why is handling missing data important in Pandas?\n",
        " - Handling missing data in Pandas is important because it addresses potential issues that arise from incomplete datasets. Missing values, often represented as NaN, can skew analysis, lead to incorrect conclusions, and negatively impact the performance of machine learning models.\n",
        "\n",
        "Strategies for handling missing data in Pandas include:\n",
        "\n",
        "Identification: Using functions like isna() to detect missing values.\n",
        "\n",
        "Removal: Using dropna() to remove rows or columns with missing values.\n",
        "\n",
        "Imputation: Replacing missing values with substitutes like the mean, median, or a specific value using fillna().\n",
        "\n",
        "Logical Operations: Pandas handles missing data in logical operations using a three-valued logic, propagating missing values only when logically required.\n",
        "\n",
        "Choosing the appropriate method depends on the context and nature of the data. Properly addressing missing data ensures the integrity and reliability of data analysis and modeling."
      ],
      "metadata": {
        "id": "h20Zm5Cpi7QG"
      }
    },
    {
      "cell_type": "markdown",
      "source": [
        "14. What are the benefits of using Plotly for data visualization?\n",
        " - It allows you to display data in a way that's easy to explore and understand, such as by zooming in, hovering over data points for more details, and clicking to get deeper insights Plotly uses JavaScript to handle interactivity, but you don't need to worry about that when using it in Python"
      ],
      "metadata": {
        "id": "nzB6yfpRjIdl"
      }
    },
    {
      "cell_type": "markdown",
      "source": [
        "15. How does NumPy handle multidimensional arrays?\n",
        " - NumPy handles multidimensional arrays, also known as ndarrays, as a grid of values, all of the same type, and indexed by a tuple of non-negative integers.\n",
        "  The dimensions are called axes, and the number of axes is the rank of the array. The shape of an array is a tuple of integers giving the size of the array along each dimension.\n",
        "\n",
        "Internally, NumPy stores ndarrays as a contiguous block of memory, which allows for efficient computation. The metadata, such as shape and data type, is stored separately, enabling flexible reshaping and manipulation of the array without moving the underlying data. NumPy provides various functions for creating, accessing, and manipulating multidimensional arrays, including:\n",
        "\n",
        "Array creation:\n",
        "\n",
        "Functions like np.array(), np.zeros(), np.ones(), and np.arange() create arrays with specified shapes and initial values.\n",
        "\n",
        "Indexing and slicing:\n",
        "\n",
        "Elements and subarrays can be accessed and modified using index notation and slicing.\n",
        "\n",
        "Reshaping:\n",
        "\n",
        "The np.reshape() function changes the shape of an array without changing its data.\n",
        "\n",
        "Arithmetic operations:\n",
        "\n",
        "Element-wise arithmetic operations are supported, as well as matrix multiplication and other linear algebra operations.\n",
        "\n",
        "Broadcasting:\n",
        "\n",
        "NumPy's broadcasting mechanism allows operations on arrays with different shapes, under certain conditions.\n",
        "\n",
        "Aggregation functions:\n",
        "\n",
        "Functions like np.sum(), np.mean(), and np.max() compute aggregate statistics along specified axes.\n",
        "\n",
        "NumPy's efficient handling of multidimensional arrays makes it a powerful tool for numerical and scientific computing in Python.\n"
      ],
      "metadata": {
        "id": "uRfIOTVCjUi9"
      }
    },
    {
      "cell_type": "markdown",
      "source": [
        "16. What is the role of Bokeh in data visualization?\n",
        " - Bokeh is a Python library primarily used for creating interactive data visualizations, especially those targeting modern web browsers. It's distinguished by its ability to render plots using HTML and JavaScript, enabling dynamic and engaging visualizations. Bokeh is well-suited for building web-based dashboards, applications, and exploring data interactively.\n",
        "\n",
        "Here's a more detailed look at its role:\n",
        "\n",
        "Interactive Visualizations:\n",
        "\n",
        "Bokeh allows users to create charts and plots that respond to user interactions, such as zooming, panning, selecting data points, and using widgets.\n",
        "\n",
        "Web-Based Applications:\n",
        "\n",
        "Its HTML/JavaScript rendering makes Bokeh ideal for building web-based data visualization applications and dashboards.\n",
        "\n",
        "High-Performance:\n",
        "\n",
        "Bokeh is designed for high-performance visualizations, including those with large datasets.\n",
        "\n",
        "Customizable and Flexible:\n",
        "\n",
        "Bokeh provides a range of options for customizing visualizations, from basic plots to complex, custom layouts.\n",
        "\n",
        "Integration with PyData Tools:\n",
        "\n",
        "Bokeh integrates well with other popular PyData tools like Pandas and Jupyter notebooks, facilitating easy data preparation and visualization.\n",
        "\n",
        "Shareability:\n",
        "\n",
        "Bokeh visualizations can be easily shared or embedded in reports and applications."
      ],
      "metadata": {
        "id": "5ZZfTuiajhHu"
      }
    },
    {
      "cell_type": "markdown",
      "source": [
        "17. Explain the difference between apply() and map() in Pandas.\n",
        " - map() and apply() in Pandas serve different purposes and operate at different levels:\n",
        "\n",
        "map(): It is used for element-wise transformations on a Pandas Series. It accepts a function, a dictionary, or another Series as input. It applies the mapping to each individual element in the Series. Unmatched values will be converted to NaN unless a default is specified."
      ],
      "metadata": {
        "id": "0IBirUOYjvcD"
      }
    },
    {
      "cell_type": "code",
      "source": [
        "    import pandas as pd\n",
        "\n",
        "    s = pd.Series([1, 2, 3, 4])\n",
        "    s_squared = s.map(lambda x: x**2)\n",
        "    print(s_squared)\n"
      ],
      "metadata": {
        "colab": {
          "base_uri": "https://localhost:8080/"
        },
        "id": "VAYO1ruLDRGd",
        "outputId": "5d907643-12e5-4b9a-b392-17c9700f52fd"
      },
      "execution_count": null,
      "outputs": [
        {
          "output_type": "stream",
          "name": "stdout",
          "text": [
            "0     1\n",
            "1     4\n",
            "2     9\n",
            "3    16\n",
            "dtype: int64\n"
          ]
        }
      ]
    },
    {
      "cell_type": "markdown",
      "source": [
        "apply(): It is more versatile and can be used on both Series and DataFrames. When used on a Series, it can perform more complex operations than map(), including those that involve multiple elements or external data. When used on a DataFrame, it operates on either rows or columns, depending on the axis argument."
      ],
      "metadata": {
        "id": "F8on8GreDYRX"
      }
    },
    {
      "cell_type": "code",
      "source": [
        "    import pandas as pd\n",
        "\n",
        "    df = pd.DataFrame({'A': [1, 2, 3], 'B': [4, 5, 6]})\n",
        "\n",
        "    # Applying a function to each column\n",
        "    df_sum = df.apply(sum, axis=0)\n",
        "    print(df_sum)\n",
        "    # Expected Output\n",
        "    # A     6\n",
        "    # B    15\n",
        "    # dtype: int64\n",
        "\n",
        "    # Applying a function to each row\n",
        "    df_sum_rows = df.apply(sum, axis=1)\n",
        "\n",
        "    print(df_sum_rows)\n",
        "    # Expected Output\n",
        "    # 0    5\n",
        "    # 1    7\n",
        "    # 2    9\n",
        "    # dtype: int64"
      ],
      "metadata": {
        "colab": {
          "base_uri": "https://localhost:8080/"
        },
        "id": "gDKjtfzRDcao",
        "outputId": "d83a5568-b3c0-4b3c-b701-2ddbb02df37d"
      },
      "execution_count": null,
      "outputs": [
        {
          "output_type": "stream",
          "name": "stdout",
          "text": [
            "A     6\n",
            "B    15\n",
            "dtype: int64\n",
            "0    5\n",
            "1    7\n",
            "2    9\n",
            "dtype: int64\n"
          ]
        }
      ]
    },
    {
      "cell_type": "code",
      "source": [
        "    # Applying a function to a Series with arguments\n",
        "    s = pd.Series([1, 2, 3, 4])\n",
        "    s_added = s.apply(lambda x, y: x + y, args=(5,))\n",
        "    print(s_added)\n",
        "    # Expected Output\n",
        "    # 0    6\n",
        "    # 1    7\n",
        "    # 2    8\n",
        "    # 3    9\n",
        "    # dtype: int64"
      ],
      "metadata": {
        "colab": {
          "base_uri": "https://localhost:8080/"
        },
        "id": "XFxCY5bDDqCa",
        "outputId": "24df107b-b139-43ab-d46d-9bff244d1720"
      },
      "execution_count": null,
      "outputs": [
        {
          "output_type": "stream",
          "name": "stdout",
          "text": [
            "0    6\n",
            "1    7\n",
            "2    8\n",
            "3    9\n",
            "dtype: int64\n"
          ]
        }
      ]
    },
    {
      "cell_type": "markdown",
      "source": [
        "In essence, map() is optimized for simple element-wise substitutions on a Series, while apply() provides greater flexibility for more complex operations on both Series and DataFrames."
      ],
      "metadata": {
        "id": "ZvEA89muDsS5"
      }
    },
    {
      "cell_type": "markdown",
      "source": [
        "18. What are some advanced features of Numpy?\n",
        " - NumPy offers several advanced features beyond basic array manipulation, including universal functions (ufuncs), broadcasting, masking, fancy indexing, array sorting, and stacking/splitting. These features enable efficient and versatile operations on NumPy arrays.\n",
        "\n",
        " Universal Functions (ufuncs):\n",
        "\n",
        "Ufuncs are functions that operate on arrays element-wise, providing a way to execute mathematical, logical, and other operations efficiently.\n",
        "\n",
        "They support a wide range of arithmetic operations (addition, subtraction, multiplication, division, etc.) and other mathematical functions.\n",
        "\n",
        "Example: np.add(a, b) adds two arrays element-wise.\n",
        "\n",
        "Broadcasting:\n",
        "\n",
        "Broadcasting allows NumPy to perform operations on arrays of different shapes, automatically aligning dimensions without creating new arrays.\n",
        "\n",
        "It provides a way to vectorize array operations, avoiding explicit loops and improving performance.\n",
        "\n",
        "Example: Adding a scalar to an array, where the scalar is \"broadcast\" to each element of the array.\n",
        "\n",
        "\n",
        "Masking involves creating a boolean array (mask) to select specific elements of an array for operations or analysis.\n",
        "\n",
        "Elements corresponding to True values in the mask are selected, while those corresponding to False are ignored.\n",
        "\n",
        "Example: Selecting all elements greater than a certain threshold.\n",
        "\n",
        " Fancy Indexing:\n",
        "\n",
        "\n",
        "Fancy indexing allows you to access array elements using a list or array of indices.\n",
        "\n",
        "This provides flexible ways to select and manipulate specific elements or subsets of the array.\n",
        "\n",
        "Example: Accessing elements at specific indices from a list of indices.\n",
        "\n",
        "\n",
        " Array Sorting:\n",
        "\n",
        "\n",
        "NumPy offers various sorting functions, including np.sort(), which returns a sorted copy of the array, and np.argsort(), which returns the indices that would sort the array.\n",
        "\n",
        "These functions can be used to sort arrays in ascending or descending order, or by specific attributes or columns.\n",
        "\n",
        "Example: Sorting an array in ascending order.\n",
        "\n",
        "\n",
        "Stacking and Splitting:\n",
        "\n",
        "\n",
        "Stacking:\n",
        "\n",
        "Combines multiple arrays along different axes to create a larger array.\n",
        "\n",
        "np.vstack() stacks arrays vertically (along the first axis).\n",
        "\n",
        "np.hstack() stacks arrays horizontally (along the second axis).\n",
        "\n",
        "Splitting:\n",
        "\n",
        "Divides an array into multiple sub-arrays along a specified axis.\n",
        "\n",
        "np.hsplit() splits an array along the horizontal axis.\n",
        "\n",
        "np.vsplit() splits an array along the vertical axis.\n",
        "Other Advanced Features:\n",
        "\n",
        "Datetime64:\n",
        "\n",
        "NumPy's datetime64 data type allows working with dates and times directly within arrays.\n",
        "\n",
        "Linear Algebra:\n",
        "\n",
        "NumPy's linalg module provides functions for linear algebra operations like matrix multiplication, determinant, and inverse.\n",
        "\n",
        "Random Numbers:\n",
        "\n",
        "NumPy offers functions for generating random numbers, including random integers, floats, and from various distributions."
      ],
      "metadata": {
        "id": "Z7h5LwkUkHqz"
      }
    },
    {
      "cell_type": "markdown",
      "source": [
        "19. How does Pandas simplify time series analysis?\n",
        " - Pandas simplifies time series analysis through its specialized data structures and functions designed for handling time-indexed data. Here's how:\n",
        "\n",
        "Datetime Indexing:\n",
        "\n",
        "Pandas allows you to use dates and times directly as indices in a DataFrame or Series. This facilitates easy selection, slicing, and alignment of time-based data using intuitive syntax.\n",
        "\n",
        "Resampling:\n",
        "\n",
        "The resample() function enables converting time series data to different frequencies (e.g., daily to monthly). This is useful for aggregating data or filling in missing values.\n",
        "\n",
        "Rolling Windows:\n",
        "\n",
        "Pandas provides the rolling() function for calculating moving averages, sums, or other statistics over a specified window of time. This helps smooth out noise and identify trends.\n",
        "\n",
        "Time Zone Handling:\n",
        "\n",
        "Pandas supports time zone conversion and localization, ensuring accurate analysis across different time zones.\n",
        "\n",
        "Data Alignment:\n",
        "\n",
        "When performing operations on multiple time series, Pandas automatically aligns the data based on their timestamps, preventing errors and ensuring data integrity.\n",
        "\n",
        "Period and Time Span Arithmetic:\n",
        "\n",
        "Pandas allows you to perform calculations with periods and time spans, making it easy to work with durations and time intervals.\n",
        "\n",
        "Input/Output:\n",
        "\n",
        "Pandas seamlessly handles reading and writing time series data from various file formats (e.g., CSV, Excel) and databases, simplifying data loading and storage.\n",
        "\n",
        "Visualization:\n",
        "\n",
        "Pandas integrates well with plotting libraries like Matplotlib, enabling easy visualization of time series data for exploratory analysis and presentation."
      ],
      "metadata": {
        "id": "jsn72IXYj53q"
      }
    },
    {
      "cell_type": "code",
      "source": [
        "import pandas as pd\n",
        "import numpy as np\n",
        "\n",
        "# Create a time series\n",
        "dates = pd.to_datetime(['2025-01-01', '2025-01-02', '2025-01-03', '2025-01-04', '2025-01-05'])\n",
        "data = pd.Series(np.random.randn(5), index=dates)\n",
        "\n",
        "# Resample to daily frequency, filling missing values with forward fill\n",
        "daily_data = data.resample('D').ffill()\n",
        "\n",
        "# Calculate the 3-day rolling average\n",
        "rolling_mean = data.rolling(window=3).mean()\n",
        "\n",
        "print(\"Original Data:\\n\", data)\n",
        "print(\"\\nDaily Data:\\n\", daily_data)\n",
        "print(\"\\nRolling Mean:\\n\", rolling_mean)"
      ],
      "metadata": {
        "colab": {
          "base_uri": "https://localhost:8080/"
        },
        "id": "l74dxwOnMq6z",
        "outputId": "ab2542f1-8191-4696-e868-4f5e9c08c214"
      },
      "execution_count": null,
      "outputs": [
        {
          "output_type": "stream",
          "name": "stdout",
          "text": [
            "Original Data:\n",
            " 2025-01-01   -1.447188\n",
            "2025-01-02   -1.315796\n",
            "2025-01-03   -0.956688\n",
            "2025-01-04   -1.493982\n",
            "2025-01-05    2.707866\n",
            "dtype: float64\n",
            "\n",
            "Daily Data:\n",
            " 2025-01-01   -1.447188\n",
            "2025-01-02   -1.315796\n",
            "2025-01-03   -0.956688\n",
            "2025-01-04   -1.493982\n",
            "2025-01-05    2.707866\n",
            "Freq: D, dtype: float64\n",
            "\n",
            "Rolling Mean:\n",
            " 2025-01-01         NaN\n",
            "2025-01-02         NaN\n",
            "2025-01-03   -1.239891\n",
            "2025-01-04   -1.255489\n",
            "2025-01-05    0.085732\n",
            "dtype: float64\n"
          ]
        }
      ]
    },
    {
      "cell_type": "markdown",
      "source": [
        "20. What is the role of a pivot table in Pandas?\n",
        " - The pivot table in Pandas serves to reshape and aggregate data within a DataFrame. It restructures data by converting unique values from one or more columns into new columns, while simultaneously allowing for aggregation of other columns. This functionality enables users to summarize and analyze data from different perspectives, making it easier to identify patterns and relationships.\n",
        "\n",
        "The pivot_table() function in Pandas takes several key arguments:\n",
        "\n",
        "index:\n",
        "\n",
        "Specifies the column(s) to use as the index of the resulting pivot table (rows).\n",
        "\n",
        "columns:\n",
        "\n",
        "Specifies the column(s) to use to create the new columns in the pivot table.\n",
        "\n",
        "values:\n",
        "\n",
        "Specifies the column(s) to aggregate and display in the pivot table's cells.\n",
        "\n",
        "aggfunc:\n",
        "\n",
        "Defines the aggregation function (e.g., mean, sum, count) to apply to the values.\n",
        "\n",
        "Pivot tables are particularly useful for: Summarizing large datasets, Analyzing trends and patterns, Restructuring data for reporting and visualization, and Comparing data across different categories.\n",
        "\n",
        "They provide a flexible and efficient way to gain insights from data, similar to pivot tables in spreadsheet software but with the added power and scalability of Python and Pandas.\n"
      ],
      "metadata": {
        "id": "WvnPJ1F-kDjD"
      }
    },
    {
      "cell_type": "markdown",
      "source": [
        "21. Why is NumPy's array slicing faster than Python's list slicing?\n",
        " - NumPy's array slicing is faster than Python's list slicing due to how data is stored and processed. NumPy arrays store elements of the same data type contiguously in memory, allowing for efficient access and manipulation through optimized C code. When slicing, NumPy creates a view of the original array, avoiding unnecessary data copying. In contrast, Python lists store elements as pointers to objects scattered in memory, requiring more overhead for access and manipulation. Slicing a Python list creates a new list object, involving data copying. This difference in memory layout and handling, along with the use of optimized C code in NumPy, results in significantly faster slicing operations compared to Python lists."
      ],
      "metadata": {
        "id": "Sb1BIq-ZkhDq"
      }
    },
    {
      "cell_type": "markdown",
      "source": [
        "22. What are some common use cases for Seabron?\n",
        " - Here are some common use cases for Seaborn, a Python library built on top of Matplotlib:\n",
        "\n",
        "📊 1. Statistical Data Visualization\n",
        "Seaborn excels at visualizing complex statistical relationships.\n",
        "\n",
        "Distribution plots: sns.histplot(), sns.kdeplot() for visualizing distributions.\n",
        "\n",
        "Box/violin plots: Great for comparing distributions across categories.\n",
        "\n",
        "📈 2. Visualizing Relationships\n",
        "It simplifies showing correlations and trends.\n",
        "\n",
        "sns.scatterplot() for 2D data points.\n",
        "\n",
        "sns.lineplot() for time series or continuous data.\n",
        "\n",
        "sns.pairplot() to show pairwise relationships in a DataFrame.\n",
        "\n",
        "📉 3. Categorical Data Comparison\n",
        "Seaborn makes it easy to compare categories.\n",
        "\n",
        "sns.barplot(): Shows means with confidence intervals.\n",
        "\n",
        "sns.countplot(): For category counts.\n",
        "\n",
        "sns.catplot(): Combines several plot types.\n",
        "\n",
        "🧊 4. Heatmaps\n",
        "Perfect for correlation matrices or any matrix-like data.\n",
        "\n",
        "sns.heatmap() with color gradients to reveal patterns.\n",
        "\n",
        "🔍 5. Exploratory Data Analysis (EDA)\n",
        "Ideal for quickly getting insights from data.\n",
        "\n",
        "Combines data summarization with powerful visuals.\n",
        "\n",
        "Works seamlessly with Pandas DataFrames.\n",
        "\n",
        "📦 6. Visualizing Model Outputs\n",
        "Regression plots: sns.regplot() and sns.lmplot() help assess model fit.\n",
        "\n",
        "Seaborn is preferred when you need clean, attractive, and informative visualizations with less boilerplate code compared to Matplotlib."
      ],
      "metadata": {
        "id": "VavguE2wkv36"
      }
    },
    {
      "cell_type": "markdown",
      "source": [
        "# **Practical**"
      ],
      "metadata": {
        "id": "W_gC4IYK3WeM"
      }
    },
    {
      "cell_type": "markdown",
      "source": [
        "1. How do you create a 2D NumPy array and calculate the sum of each row?"
      ],
      "metadata": {
        "id": "0OaNy5Yj3g4o"
      }
    },
    {
      "cell_type": "code",
      "source": [
        "import numpy as np\n",
        "\n",
        "# Create a 2D NumPy array\n",
        "arr = np.array([[1, 2, 3],\n",
        "                [4, 5, 6],\n",
        "                [7, 8, 9]])\n",
        "\n",
        "# Calculate the sum of each row\n",
        "row_sums = np.sum(arr, axis=1)\n",
        "\n",
        "print(row_sums)\n"
      ],
      "metadata": {
        "colab": {
          "base_uri": "https://localhost:8080/"
        },
        "id": "TSM4TPDhNznB",
        "outputId": "901106df-0d24-4268-c0dc-b61d67865094"
      },
      "execution_count": null,
      "outputs": [
        {
          "output_type": "stream",
          "name": "stdout",
          "text": [
            "[ 6 15 24]\n"
          ]
        }
      ]
    },
    {
      "cell_type": "markdown",
      "source": [
        "Each number is the sum of a row:\n",
        "\n",
        "1+2+3 = 6\n",
        "\n",
        "4+5+6 = 15\n",
        "\n",
        "7+8+9 = 24\n",
        "\n"
      ],
      "metadata": {
        "id": "tFeerWA5N6iP"
      }
    },
    {
      "cell_type": "markdown",
      "source": [
        "2. Write a Pandas script to find the mean of a specific column in a DataFrame."
      ],
      "metadata": {
        "id": "pz_8RUt4301k"
      }
    },
    {
      "cell_type": "code",
      "source": [
        "import pandas as pd\n",
        "\n",
        "# Sample DataFrame\n",
        "data = {\n",
        "    'Name': ['Alice', 'Bob', 'Charlie'],\n",
        "    'Score': [85, 90, 78]\n",
        "}\n",
        "\n",
        "df = pd.DataFrame(data)\n",
        "\n",
        "# Calculate the mean of the 'Score' column\n",
        "mean_score = df['Score'].mean()\n",
        "\n",
        "print(\"Mean Score:\", mean_score)\n"
      ],
      "metadata": {
        "colab": {
          "base_uri": "https://localhost:8080/"
        },
        "id": "6HbL98V5OBry",
        "outputId": "6631da15-2412-4425-b8ba-fb491995bda2"
      },
      "execution_count": null,
      "outputs": [
        {
          "output_type": "stream",
          "name": "stdout",
          "text": [
            "Mean Score: 84.33333333333333\n"
          ]
        }
      ]
    },
    {
      "cell_type": "markdown",
      "source": [
        "3. Create a scatter plot using Matplotlib."
      ],
      "metadata": {
        "id": "DbSGASvs4E7M"
      }
    },
    {
      "cell_type": "code",
      "source": [
        "import matplotlib.pyplot as plt\n",
        "\n",
        "# Sample data\n",
        "x = [1, 2, 3, 4, 5]\n",
        "y = [10, 12, 8, 14, 7]\n",
        "\n",
        "# Create scatter plot\n",
        "plt.scatter(x, y, color='blue', marker='o')\n",
        "\n",
        "# Add labels and title\n",
        "plt.xlabel('X-axis')\n",
        "plt.ylabel('Y-axis')\n",
        "plt.title('Simple Scatter Plot')\n",
        "\n",
        "# Show the plot\n",
        "plt.show()\n"
      ],
      "metadata": {
        "colab": {
          "base_uri": "https://localhost:8080/",
          "height": 472
        },
        "id": "dAz4x5cZOKfo",
        "outputId": "bb60c2c0-1fdd-435c-e90a-5ef68c18d1f1"
      },
      "execution_count": null,
      "outputs": [
        {
          "output_type": "display_data",
          "data": {
            "text/plain": [
              "<Figure size 640x480 with 1 Axes>"
            ],
            "image/png": "[encoded data removed]"
          },
          "metadata": {}
        }
      ]
    },
    {
      "cell_type": "markdown",
      "source": [
        "This will plot x vs y as a scatter plot with blue circles. You can customize colors, markers, and labels as needed.\n",
        "\n",
        "\n",
        "\n",
        "\n",
        "\n",
        "\n",
        "\n",
        "\n"
      ],
      "metadata": {
        "id": "M1eZxGpxOQS5"
      }
    },
    {
      "cell_type": "markdown",
      "source": [
        "4. How do you calculate the correction matrix using Seaborn and visualize it with a heatmap?"
      ],
      "metadata": {
        "id": "8p6RZ9YE4OP8"
      }
    },
    {
      "cell_type": "code",
      "source": [
        "import pandas as pd\n",
        "import seaborn as sns\n",
        "import matplotlib.pyplot as plt\n",
        "\n",
        "# Sample DataFrame\n",
        "data = {\n",
        "    'A': [10, 20, 30, 40],\n",
        "    'B': [15, 25, 35, 45],\n",
        "    'C': [40, 30, 20, 10]\n",
        "}\n",
        "\n",
        "df = pd.DataFrame(data)\n",
        "\n",
        "# 1. Calculate correlation matrix\n",
        "corr = df.corr()\n",
        "\n",
        "# 2. Create heatmap\n",
        "sns.heatmap(corr, annot=True, cmap='coolwarm')\n",
        "plt.title('Correlation Matrix')\n",
        "plt.show()\n"
      ],
      "metadata": {
        "colab": {
          "base_uri": "https://localhost:8080/",
          "height": 452
        },
        "id": "9S6gqCuFOfnC",
        "outputId": "c4955913-6e0b-479a-92af-c5669c787d73"
      },
      "execution_count": null,
      "outputs": [
        {
          "output_type": "display_data",
          "data": {
            "text/plain": [
              "<Figure size 640x480 with 2 Axes>"
            ],
            "image/png": "[encoded data removed]"
          },
          "metadata": {}
        }
      ]
    },
    {
      "cell_type": "markdown",
      "source": [
        "5. Genrate a bar plot using plotly."
      ],
      "metadata": {
        "id": "Z_pU1Y7S4hR8"
      }
    },
    {
      "cell_type": "code",
      "source": [
        "import plotly.express as px\n",
        "\n",
        "# Sample data\n",
        "data = {\n",
        "    'Fruits': ['Apples', 'Bananas', 'Cherries'],\n",
        "    'Sales': [100, 150, 80]\n",
        "}\n",
        "\n",
        "# Create bar plot\n",
        "fig = px.bar(data, x='Fruits', y='Sales', title='Fruit Sales')\n",
        "\n",
        "# Show plot\n",
        "fig.show()\n"
      ],
      "metadata": {
        "colab": {
          "base_uri": "https://localhost:8080/",
          "height": 542
        },
        "id": "_acUI9a7Oo0h",
        "outputId": "3a8bd546-c14e-45b6-8697-6ed36d7e39ad"
      },
      "execution_count": null,
      "outputs": [
        {
          "output_type": "display_data",
          "data": {
            "text/html": [
              "<html>\n",
              "<head><meta charset=\"utf-8\" /></head>\n",
              "<body>\n",
              "    <div>            <script src=\"https://cdnjs.cloudflare.com/ajax/libs/mathjax/2.7.5/MathJax.js?config=TeX-AMS-MML_SVG\"></script><script type=\"text/javascript\">if (window.MathJax && window.MathJax.Hub && window.MathJax.Hub.Config) {window.MathJax.Hub.Config({SVG: {font: \"STIX-Web\"}});}</script>                <script type=\"text/javascript\">window.PlotlyConfig = {MathJaxConfig: 'local'};</script>\n",
              "        <script charset=\"utf-8\" src=\"https://cdn.plot.ly/plotly-2.35.2.min.js\"></script>                <div id=\"21461255-c295-47bb-8084-d3d40e3c1002\" class=\"plotly-graph-div\" style=\"height:525px; width:100%;\"></div>            <script type=\"text/javascript\">                                    window.PLOTLYENV=window.PLOTLYENV || {};                                    if (document.getElementById(\"21461255-c295-47bb-8084-d3d40e3c1002\")) {                    Plotly.newPlot(                        \"21461255-c295-47bb-8084-d3d40e3c1002\",                        [{\"alignmentgroup\":\"True\",\"hovertemplate\":\"Fruits=%{x}\\u003cbr\\u003eSales=%{y}\\u003cextra\\u003e\\u003c\\u002fextra\\u003e\",\"legendgroup\":\"\",\"marker\":{\"color\":\"#636efa\",\"pattern\":{\"shape\":\"\"}},\"name\":\"\",\"offsetgroup\":\"\",\"orientation\":\"v\",\"showlegend\":false,\"textposition\":\"auto\",\"x\":[\"Apples\",\"Bananas\",\"Cherries\"],\"xaxis\":\"x\",\"y\":[100,150,80],\"yaxis\":\"y\",\"type\":\"bar\"}],                        {\"template\":{\"data\":{\"histogram2dcontour\":[{\"type\":\"histogram2dcontour\",\"colorbar\":{\"outlinewidth\":0,\"ticks\":\"\"},\"colorscale\":[[0.0,\"#0d0887\"],[0.1111111111111111,\"#46039f\"],[0.2222222222222222,\"#7201a8\"],[0.3333333333333333,\"#9c179e\"],[0.4444444444444444,\"#bd3786\"],[0.5555555555555556,\"#d8576b\"],[0.6666666666666666,\"#ed7953\"],[0.7777777777777778,\"#fb9f3a\"],[0.8888888888888888,\"#fdca26\"],[1.0,\"#f0f921\"]]}],\"choropleth\":[{\"type\":\"choropleth\",\"colorbar\":{\"outlinewidth\":0,\"ticks\":\"\"}}],\"histogram2d\":[{\"type\":\"histogram2d\",\"colorbar\":{\"outlinewidth\":0,\"ticks\":\"\"},\"colorscale\":[[0.0,\"#0d0887\"],[0.1111111111111111,\"#46039f\"],[0.2222222222222222,\"#7201a8\"],[0.3333333333333333,\"#9c179e\"],[0.4444444444444444,\"#bd3786\"],[0.5555555555555556,\"#d8576b\"],[0.6666666666666666,\"#ed7953\"],[0.7777777777777778,\"#fb9f3a\"],[0.8888888888888888,\"#fdca26\"],[1.0,\"#f0f921\"]]}],\"heatmap\":[{\"type\":\"heatmap\",\"colorbar\":{\"outlinewidth\":0,\"ticks\":\"\"},\"colorscale\":[[0.0,\"#0d0887\"],[0.1111111111111111,\"#46039f\"],[0.2222222222222222,\"#7201a8\"],[0.3333333333333333,\"#9c179e\"],[0.4444444444444444,\"#bd3786\"],[0.5555555555555556,\"#d8576b\"],[0.6666666666666666,\"#ed7953\"],[0.7777777777777778,\"#fb9f3a\"],[0.8888888888888888,\"#fdca26\"],[1.0,\"#f0f921\"]]}],\"heatmapgl\":[{\"type\":\"heatmapgl\",\"colorbar\":{\"outlinewidth\":0,\"ticks\":\"\"},\"colorscale\":[[0.0,\"#0d0887\"],[0.1111111111111111,\"#46039f\"],[0.2222222222222222,\"#7201a8\"],[0.3333333333333333,\"#9c179e\"],[0.4444444444444444,\"#bd3786\"],[0.5555555555555556,\"#d8576b\"],[0.6666666666666666,\"#ed7953\"],[0.7777777777777778,\"#fb9f3a\"],[0.8888888888888888,\"#fdca26\"],[1.0,\"#f0f921\"]]}],\"contourcarpet\":[{\"type\":\"contourcarpet\",\"colorbar\":{\"outlinewidth\":0,\"ticks\":\"\"}}],\"contour\":[{\"type\":\"contour\",\"colorbar\":{\"outlinewidth\":0,\"ticks\":\"\"},\"colorscale\":[[0.0,\"#0d0887\"],[0.1111111111111111,\"#46039f\"],[0.2222222222222222,\"#7201a8\"],[0.3333333333333333,\"#9c179e\"],[0.4444444444444444,\"#bd3786\"],[0.5555555555555556,\"#d8576b\"],[0.6666666666666666,\"#ed7953\"],[0.7777777777777778,\"#fb9f3a\"],[0.8888888888888888,\"#fdca26\"],[1.0,\"#f0f921\"]]}],\"surface\":[{\"type\":\"surface\",\"colorbar\":{\"outlinewidth\":0,\"ticks\":\"\"},\"colorscale\":[[0.0,\"#0d0887\"],[0.1111111111111111,\"#46039f\"],[0.2222222222222222,\"#7201a8\"],[0.3333333333333333,\"#9c179e\"],[0.4444444444444444,\"#bd3786\"],[0.5555555555555556,\"#d8576b\"],[0.6666666666666666,\"#ed7953\"],[0.7777777777777778,\"#fb9f3a\"],[0.8888888888888888,\"#fdca26\"],[1.0,\"#f0f921\"]]}],\"mesh3d\":[{\"type\":\"mesh3d\",\"colorbar\":{\"outlinewidth\":0,\"ticks\":\"\"}}],\"scatter\":[{\"fillpattern\":{\"fillmode\":\"overlay\",\"size\":10,\"solidity\":0.2},\"type\":\"scatter\"}],\"parcoords\":[{\"type\":\"parcoords\",\"line\":{\"colorbar\":{\"outlinewidth\":0,\"ticks\":\"\"}}}],\"scatterpolargl\":[{\"type\":\"scatterpolargl\",\"marker\":{\"colorbar\":{\"outlinewidth\":0,\"ticks\":\"\"}}}],\"bar\":[{\"error_x\":{\"color\":\"#2a3f5f\"},\"error_y\":{\"color\":\"#2a3f5f\"},\"marker\":{\"line\":{\"color\":\"#E5ECF6\",\"width\":0.5},\"pattern\":{\"fillmode\":\"overlay\",\"size\":10,\"solidity\":0.2}},\"type\":\"bar\"}],\"scattergeo\":[{\"type\":\"scattergeo\",\"marker\":{\"colorbar\":{\"outlinewidth\":0,\"ticks\":\"\"}}}],\"scatterpolar\":[{\"type\":\"scatterpolar\",\"marker\":{\"colorbar\":{\"outlinewidth\":0,\"ticks\":\"\"}}}],\"histogram\":[{\"marker\":{\"pattern\":{\"fillmode\":\"overlay\",\"size\":10,\"solidity\":0.2}},\"type\":\"histogram\"}],\"scattergl\":[{\"type\":\"scattergl\",\"marker\":{\"colorbar\":{\"outlinewidth\":0,\"ticks\":\"\"}}}],\"scatter3d\":[{\"type\":\"scatter3d\",\"line\":{\"colorbar\":{\"outlinewidth\":0,\"ticks\":\"\"}},\"marker\":{\"colorbar\":{\"outlinewidth\":0,\"ticks\":\"\"}}}],\"scattermapbox\":[{\"type\":\"scattermapbox\",\"marker\":{\"colorbar\":{\"outlinewidth\":0,\"ticks\":\"\"}}}],\"scatterternary\":[{\"type\":\"scatterternary\",\"marker\":{\"colorbar\":{\"outlinewidth\":0,\"ticks\":\"\"}}}],\"scattercarpet\":[{\"type\":\"scattercarpet\",\"marker\":{\"colorbar\":{\"outlinewidth\":0,\"ticks\":\"\"}}}],\"carpet\":[{\"aaxis\":{\"endlinecolor\":\"#2a3f5f\",\"gridcolor\":\"white\",\"linecolor\":\"white\",\"minorgridcolor\":\"white\",\"startlinecolor\":\"#2a3f5f\"},\"baxis\":{\"endlinecolor\":\"#2a3f5f\",\"gridcolor\":\"white\",\"linecolor\":\"white\",\"minorgridcolor\":\"white\",\"startlinecolor\":\"#2a3f5f\"},\"type\":\"carpet\"}],\"table\":[{\"cells\":{\"fill\":{\"color\":\"#EBF0F8\"},\"line\":{\"color\":\"white\"}},\"header\":{\"fill\":{\"color\":\"#C8D4E3\"},\"line\":{\"color\":\"white\"}},\"type\":\"table\"}],\"barpolar\":[{\"marker\":{\"line\":{\"color\":\"#E5ECF6\",\"width\":0.5},\"pattern\":{\"fillmode\":\"overlay\",\"size\":10,\"solidity\":0.2}},\"type\":\"barpolar\"}],\"pie\":[{\"automargin\":true,\"type\":\"pie\"}]},\"layout\":{\"autotypenumbers\":\"strict\",\"colorway\":[\"#636efa\",\"#EF553B\",\"#00cc96\",\"#ab63fa\",\"#FFA15A\",\"#19d3f3\",\"#FF6692\",\"#B6E880\",\"#FF97FF\",\"#FECB52\"],\"font\":{\"color\":\"#2a3f5f\"},\"hovermode\":\"closest\",\"hoverlabel\":{\"align\":\"left\"},\"paper_bgcolor\":\"white\",\"plot_bgcolor\":\"#E5ECF6\",\"polar\":{\"bgcolor\":\"#E5ECF6\",\"angularaxis\":{\"gridcolor\":\"white\",\"linecolor\":\"white\",\"ticks\":\"\"},\"radialaxis\":{\"gridcolor\":\"white\",\"linecolor\":\"white\",\"ticks\":\"\"}},\"ternary\":{\"bgcolor\":\"#E5ECF6\",\"aaxis\":{\"gridcolor\":\"white\",\"linecolor\":\"white\",\"ticks\":\"\"},\"baxis\":{\"gridcolor\":\"white\",\"linecolor\":\"white\",\"ticks\":\"\"},\"caxis\":{\"gridcolor\":\"white\",\"linecolor\":\"white\",\"ticks\":\"\"}},\"coloraxis\":{\"colorbar\":{\"outlinewidth\":0,\"ticks\":\"\"}},\"colorscale\":{\"sequential\":[[0.0,\"#0d0887\"],[0.1111111111111111,\"#46039f\"],[0.2222222222222222,\"#7201a8\"],[0.3333333333333333,\"#9c179e\"],[0.4444444444444444,\"#bd3786\"],[0.5555555555555556,\"#d8576b\"],[0.6666666666666666,\"#ed7953\"],[0.7777777777777778,\"#fb9f3a\"],[0.8888888888888888,\"#fdca26\"],[1.0,\"#f0f921\"]],\"sequentialminus\":[[0.0,\"#0d0887\"],[0.1111111111111111,\"#46039f\"],[0.2222222222222222,\"#7201a8\"],[0.3333333333333333,\"#9c179e\"],[0.4444444444444444,\"#bd3786\"],[0.5555555555555556,\"#d8576b\"],[0.6666666666666666,\"#ed7953\"],[0.7777777777777778,\"#fb9f3a\"],[0.8888888888888888,\"#fdca26\"],[1.0,\"#f0f921\"]],\"diverging\":[[0,\"#8e0152\"],[0.1,\"#c51b7d\"],[0.2,\"#de77ae\"],[0.3,\"#f1b6da\"],[0.4,\"#fde0ef\"],[0.5,\"#f7f7f7\"],[0.6,\"#e6f5d0\"],[0.7,\"#b8e186\"],[0.8,\"#7fbc41\"],[0.9,\"#4d9221\"],[1,\"#276419\"]]},\"xaxis\":{\"gridcolor\":\"white\",\"linecolor\":\"white\",\"ticks\":\"\",\"title\":{\"standoff\":15},\"zerolinecolor\":\"white\",\"automargin\":true,\"zerolinewidth\":2},\"yaxis\":{\"gridcolor\":\"white\",\"linecolor\":\"white\",\"ticks\":\"\",\"title\":{\"standoff\":15},\"zerolinecolor\":\"white\",\"automargin\":true,\"zerolinewidth\":2},\"scene\":{\"xaxis\":{\"backgroundcolor\":\"#E5ECF6\",\"gridcolor\":\"white\",\"linecolor\":\"white\",\"showbackground\":true,\"ticks\":\"\",\"zerolinecolor\":\"white\",\"gridwidth\":2},\"yaxis\":{\"backgroundcolor\":\"#E5ECF6\",\"gridcolor\":\"white\",\"linecolor\":\"white\",\"showbackground\":true,\"ticks\":\"\",\"zerolinecolor\":\"white\",\"gridwidth\":2},\"zaxis\":{\"backgroundcolor\":\"#E5ECF6\",\"gridcolor\":\"white\",\"linecolor\":\"white\",\"showbackground\":true,\"ticks\":\"\",\"zerolinecolor\":\"white\",\"gridwidth\":2}},\"shapedefaults\":{\"line\":{\"color\":\"#2a3f5f\"}},\"annotationdefaults\":{\"arrowcolor\":\"#2a3f5f\",\"arrowhead\":0,\"arrowwidth\":1},\"geo\":{\"bgcolor\":\"white\",\"landcolor\":\"#E5ECF6\",\"subunitcolor\":\"white\",\"showland\":true,\"showlakes\":true,\"lakecolor\":\"white\"},\"title\":{\"x\":0.05},\"mapbox\":{\"style\":\"light\"}}},\"xaxis\":{\"anchor\":\"y\",\"domain\":[0.0,1.0],\"title\":{\"text\":\"Fruits\"}},\"yaxis\":{\"anchor\":\"x\",\"domain\":[0.0,1.0],\"title\":{\"text\":\"Sales\"}},\"legend\":{\"tracegroupgap\":0},\"title\":{\"text\":\"Fruit Sales\"},\"barmode\":\"relative\"},                        {\"responsive\": true}                    ).then(function(){\n",
              "                            \n",
              "var gd = document.getElementById('21461255-c295-47bb-8084-d3d40e3c1002');\n",
              "var x = new MutationObserver(function (mutations, observer) {{\n",
              "        var display = window.getComputedStyle(gd).display;\n",
              "        if (!display || display === 'none') {{\n",
              "            console.log([gd, 'removed!']);\n",
              "            Plotly.purge(gd);\n",
              "            observer.disconnect();\n",
              "        }}\n",
              "}});\n",
              "\n",
              "// Listen for the removal of the full notebook cells\n",
              "var notebookContainer = gd.closest('#notebook-container');\n",
              "if (notebookContainer) {{\n",
              "    x.observe(notebookContainer, {childList: true});\n",
              "}}\n",
              "\n",
              "// Listen for the clearing of the current output cell\n",
              "var outputEl = gd.closest('.output');\n",
              "if (outputEl) {{\n",
              "    x.observe(outputEl, {childList: true});\n",
              "}}\n",
              "\n",
              "                        })                };                            </script>        </div>\n",
              "</body>\n",
              "</html>"
            ]
          },
          "metadata": {}
        }
      ]
    },
    {
      "cell_type": "markdown",
      "source": [
        "6. Create a DataFrame and add a new column based on an existing column."
      ],
      "metadata": {
        "id": "jlrxXcQn4vpm"
      }
    },
    {
      "cell_type": "code",
      "source": [
        "import pandas as pd\n",
        "\n",
        "# Create a DataFrame\n",
        "data = {\n",
        "    'Name': ['Alice', 'Bob', 'Charlie'],\n",
        "    'Score': [85, 92, 78]\n",
        "}\n",
        "\n",
        "df = pd.DataFrame(data)\n",
        "\n",
        "# Add a new column 'Passed' based on 'Score'\n",
        "df['Passed'] = df['Score'] >= 80\n",
        "\n",
        "print(df)\n"
      ],
      "metadata": {
        "colab": {
          "base_uri": "https://localhost:8080/"
        },
        "id": "wvU0y_P1Owlp",
        "outputId": "71d2c49f-fb5e-4a76-837d-35301e878eae"
      },
      "execution_count": null,
      "outputs": [
        {
          "output_type": "stream",
          "name": "stdout",
          "text": [
            "      Name  Score  Passed\n",
            "0    Alice     85    True\n",
            "1      Bob     92    True\n",
            "2  Charlie     78   False\n"
          ]
        }
      ]
    },
    {
      "cell_type": "markdown",
      "source": [
        "7. Write a program to perform element-wise multiplication of two NumPy arrays."
      ],
      "metadata": {
        "id": "R2TgPGRX486C"
      }
    },
    {
      "cell_type": "code",
      "source": [
        "import numpy as np\n",
        "\n",
        "# Define two NumPy arrays\n",
        "arr1 = np.array([2, 4, 6])\n",
        "arr2 = np.array([1, 3, 5])\n",
        "\n",
        "# Element-wise multiplication\n",
        "result = arr1 * arr2\n",
        "\n",
        "print(\"Result:\", result)\n"
      ],
      "metadata": {
        "colab": {
          "base_uri": "https://localhost:8080/"
        },
        "id": "PbEySNEmO6QI",
        "outputId": "1fdc58ac-bf3f-498b-bbb3-b58bc28ebec0"
      },
      "execution_count": null,
      "outputs": [
        {
          "output_type": "stream",
          "name": "stdout",
          "text": [
            "Result: [ 2 12 30]\n"
          ]
        }
      ]
    },
    {
      "cell_type": "markdown",
      "source": [
        "Each element is multiplied with the corresponding element from the other array. Make sure both arrays have the same shape for element-wise operations."
      ],
      "metadata": {
        "id": "AA0pjkcXO-nB"
      }
    },
    {
      "cell_type": "markdown",
      "source": [
        "8. Create a line plot with multiple lines using Matplotlib."
      ],
      "metadata": {
        "id": "4eShN7Tc5L_0"
      }
    },
    {
      "cell_type": "code",
      "source": [
        "import matplotlib.pyplot as plt\n",
        "\n",
        "# Sample data\n",
        "x = [1, 2, 3, 4, 5]\n",
        "y1 = [2, 3, 5, 7, 11]\n",
        "y2 = [1, 4, 6, 8, 10]\n",
        "\n",
        "# Plot multiple lines\n",
        "plt.plot(x, y1, label='Line 1', marker='o')\n",
        "plt.plot(x, y2, label='Line 2', marker='s')\n",
        "\n",
        "# Add labels and title\n",
        "plt.xlabel('X-axis')\n",
        "plt.ylabel('Y-axis')\n",
        "plt.title('Multiple Line Plot')\n",
        "\n",
        "# Show legend\n",
        "plt.legend()\n",
        "\n",
        "# Show plot\n",
        "plt.show()\n"
      ],
      "metadata": {
        "colab": {
          "base_uri": "https://localhost:8080/",
          "height": 472
        },
        "id": "ePkjtlmxPF9w",
        "outputId": "71fd622b-9b2b-47bf-a66d-7af9858a0ee1"
      },
      "execution_count": null,
      "outputs": [
        {
          "output_type": "display_data",
          "data": {
            "text/plain": [
              "<Figure size 640x480 with 1 Axes>"
            ],
            "image/png": "[encoded data removed]"
          },
          "metadata": {}
        }
      ]
    },
    {
      "cell_type": "markdown",
      "source": [
        "9. Generate a Pandas DataFrame and filter rows where a column value is greater than a threshold."
      ],
      "metadata": {
        "id": "mlsPwXLd5WX7"
      }
    },
    {
      "cell_type": "code",
      "source": [
        "import pandas as pd\n",
        "\n",
        "# Create DataFrame\n",
        "data = {\n",
        "    'Name': ['Alice', 'Bob', 'Charlie', 'David'],\n",
        "    'Age': [25, 32, 18, 47]\n",
        "}\n",
        "\n",
        "df = pd.DataFrame(data)\n",
        "\n",
        "# Filter rows where 'Age' > 30\n",
        "filtered_df = df[df['Age'] > 30]\n",
        "\n",
        "print(filtered_df)\n"
      ],
      "metadata": {
        "colab": {
          "base_uri": "https://localhost:8080/"
        },
        "id": "EDMjCCb2POtR",
        "outputId": "ef557c22-9163-4f9a-ba2d-8674cbc9886b"
      },
      "execution_count": null,
      "outputs": [
        {
          "output_type": "stream",
          "name": "stdout",
          "text": [
            "    Name  Age\n",
            "1    Bob   32\n",
            "3  David   47\n"
          ]
        }
      ]
    },
    {
      "cell_type": "markdown",
      "source": [
        "10. Create a histogram using Seaborn to visualize a distribution."
      ],
      "metadata": {
        "id": "jc-uCDg75vb6"
      }
    },
    {
      "cell_type": "code",
      "source": [
        "import seaborn as sns\n",
        "import matplotlib.pyplot as plt\n",
        "\n",
        "# Sample data\n",
        "data = [12, 15, 13, 17, 19, 21, 22, 20, 18, 15, 14, 13, 16, 19, 20]\n",
        "\n",
        "# Create histogram\n",
        "sns.histplot(data, bins=5, kde=False, color='skyblue')\n",
        "\n",
        "# Add title and labels\n",
        "plt.title('Sample Data Distribution')\n",
        "plt.xlabel('Value')\n",
        "plt.ylabel('Frequency')\n",
        "\n",
        "plt.show()\n"
      ],
      "metadata": {
        "colab": {
          "base_uri": "https://localhost:8080/",
          "height": 472
        },
        "id": "FUoRmYMCPVrH",
        "outputId": "69e2ebb0-a85c-47ec-94fb-03a9d8f2a2cb"
      },
      "execution_count": null,
      "outputs": [
        {
          "output_type": "display_data",
          "data": {
            "text/plain": [
              "<Figure size 640x480 with 1 Axes>"
            ],
            "image/png": "[encoded data removed]"
          },
          "metadata": {}
        }
      ]
    },
    {
      "cell_type": "markdown",
      "source": [
        "11. Perform matrix multiplication using NumPy."
      ],
      "metadata": {
        "id": "HkBF7h8D6EFy"
      }
    },
    {
      "cell_type": "code",
      "source": [
        "import numpy as np\n",
        "\n",
        "# Define two matrices\n",
        "A = np.array([[1, 2],\n",
        "              [3, 4]])\n",
        "\n",
        "B = np.array([[5, 6],\n",
        "              [7, 8]])\n",
        "\n",
        "# Matrix multiplication\n",
        "result = np.dot(A, B)\n",
        "\n",
        "# Alternatively, you can use: result = A @ B\n",
        "\n",
        "print(result)\n"
      ],
      "metadata": {
        "colab": {
          "base_uri": "https://localhost:8080/"
        },
        "id": "Bsk7FZSXPc-L",
        "outputId": "20661400-9964-4f27-9f0d-0028269340bc"
      },
      "execution_count": null,
      "outputs": [
        {
          "output_type": "stream",
          "name": "stdout",
          "text": [
            "[[19 22]\n",
            " [43 50]]\n"
          ]
        }
      ]
    },
    {
      "cell_type": "markdown",
      "source": [
        "12. Use Pandas to load a CSV file and display its first 5 rows."
      ],
      "metadata": {
        "id": "NJouDI3i6NZP"
      }
    },
    {
      "cell_type": "code",
      "source": [
        "import pandas as pd\n",
        "\n",
        "# Load CSV file\n",
        "df = pd.read_csv('your_file.csv')\n",
        "\n",
        "# Display first 5 rows\n",
        "print(df.head())\n"
      ],
      "metadata": {
        "id": "XCoMiXpIP7zV",
        "outputId": "94bf27fa-9843-41dc-99de-0ce2542e4817",
        "colab": {
          "base_uri": "https://localhost:8080/",
          "height": 356
        }
      },
      "execution_count": null,
      "outputs": [
        {
          "output_type": "error",
          "ename": "FileNotFoundError",
          "evalue": "[Errno 2] No such file or directory: 'your_file.csv'",
          "traceback": [
            "\u001b[0;31m---------------------------------------------------------------------------\u001b[0m",
            "\u001b[0;31mFileNotFoundError\u001b[0m                         Traceback (most recent call last)",
            "\u001b[0;32m<ipython-input-24-38d08d3cf299>\u001b[0m in \u001b[0;36m<cell line: 0>\u001b[0;34m()\u001b[0m\n\u001b[1;32m      2\u001b[0m \u001b[0;34m\u001b[0m\u001b[0m\n\u001b[1;32m      3\u001b[0m \u001b[0;31m# Load CSV file\u001b[0m\u001b[0;34m\u001b[0m\u001b[0;34m\u001b[0m\u001b[0m\n\u001b[0;32m----> 4\u001b[0;31m \u001b[0mdf\u001b[0m \u001b[0;34m=\u001b[0m \u001b[0mpd\u001b[0m\u001b[0;34m.\u001b[0m\u001b[0mread_csv\u001b[0m\u001b[0;34m(\u001b[0m\u001b[0;34m'your_file.csv'\u001b[0m\u001b[0;34m)\u001b[0m\u001b[0;34m\u001b[0m\u001b[0;34m\u001b[0m\u001b[0m\n\u001b[0m\u001b[1;32m      5\u001b[0m \u001b[0;34m\u001b[0m\u001b[0m\n\u001b[1;32m      6\u001b[0m \u001b[0;31m# Display first 5 rows\u001b[0m\u001b[0;34m\u001b[0m\u001b[0;34m\u001b[0m\u001b[0m\n",
            "\u001b[0;32m/usr/local/lib/python3.11/dist-packages/pandas/io/parsers/readers.py\u001b[0m in \u001b[0;36mread_csv\u001b[0;34m(filepath_or_buffer, sep, delimiter, header, names, index_col, usecols, dtype, engine, converters, true_values, false_values, skipinitialspace, skiprows, skipfooter, nrows, na_values, keep_default_na, na_filter, verbose, skip_blank_lines, parse_dates, infer_datetime_format, keep_date_col, date_parser, date_format, dayfirst, cache_dates, iterator, chunksize, compression, thousands, decimal, lineterminator, quotechar, quoting, doublequote, escapechar, comment, encoding, encoding_errors, dialect, on_bad_lines, delim_whitespace, low_memory, memory_map, float_precision, storage_options, dtype_backend)\u001b[0m\n\u001b[1;32m   1024\u001b[0m     \u001b[0mkwds\u001b[0m\u001b[0;34m.\u001b[0m\u001b[0mupdate\u001b[0m\u001b[0;34m(\u001b[0m\u001b[0mkwds_defaults\u001b[0m\u001b[0;34m)\u001b[0m\u001b[0;34m\u001b[0m\u001b[0;34m\u001b[0m\u001b[0m\n\u001b[1;32m   1025\u001b[0m \u001b[0;34m\u001b[0m\u001b[0m\n\u001b[0;32m-> 1026\u001b[0;31m     \u001b[0;32mreturn\u001b[0m \u001b[0m_read\u001b[0m\u001b[0;34m(\u001b[0m\u001b[0mfilepath_or_buffer\u001b[0m\u001b[0;34m,\u001b[0m \u001b[0mkwds\u001b[0m\u001b[0;34m)\u001b[0m\u001b[0;34m\u001b[0m\u001b[0;34m\u001b[0m\u001b[0m\n\u001b[0m\u001b[1;32m   1027\u001b[0m \u001b[0;34m\u001b[0m\u001b[0m\n\u001b[1;32m   1028\u001b[0m \u001b[0;34m\u001b[0m\u001b[0m\n",
            "\u001b[0;32m/usr/local/lib/python3.11/dist-packages/pandas/io/parsers/readers.py\u001b[0m in \u001b[0;36m_read\u001b[0;34m(filepath_or_buffer, kwds)\u001b[0m\n\u001b[1;32m    618\u001b[0m \u001b[0;34m\u001b[0m\u001b[0m\n\u001b[1;32m    619\u001b[0m     \u001b[0;31m# Create the parser.\u001b[0m\u001b[0;34m\u001b[0m\u001b[0;34m\u001b[0m\u001b[0m\n\u001b[0;32m--> 620\u001b[0;31m     \u001b[0mparser\u001b[0m \u001b[0;34m=\u001b[0m \u001b[0mTextFileReader\u001b[0m\u001b[0;34m(\u001b[0m\u001b[0mfilepath_or_buffer\u001b[0m\u001b[0;34m,\u001b[0m \u001b[0;34m**\u001b[0m\u001b[0mkwds\u001b[0m\u001b[0;34m)\u001b[0m\u001b[0;34m\u001b[0m\u001b[0;34m\u001b[0m\u001b[0m\n\u001b[0m\u001b[1;32m    621\u001b[0m \u001b[0;34m\u001b[0m\u001b[0m\n\u001b[1;32m    622\u001b[0m     \u001b[0;32mif\u001b[0m \u001b[0mchunksize\u001b[0m \u001b[0;32mor\u001b[0m \u001b[0miterator\u001b[0m\u001b[0;34m:\u001b[0m\u001b[0;34m\u001b[0m\u001b[0;34m\u001b[0m\u001b[0m\n",
            "\u001b[0;32m/usr/local/lib/python3.11/dist-packages/pandas/io/parsers/readers.py\u001b[0m in \u001b[0;36m__init__\u001b[0;34m(self, f, engine, **kwds)\u001b[0m\n\u001b[1;32m   1618\u001b[0m \u001b[0;34m\u001b[0m\u001b[0m\n\u001b[1;32m   1619\u001b[0m         \u001b[0mself\u001b[0m\u001b[0;34m.\u001b[0m\u001b[0mhandles\u001b[0m\u001b[0;34m:\u001b[0m \u001b[0mIOHandles\u001b[0m \u001b[0;34m|\u001b[0m \u001b[0;32mNone\u001b[0m \u001b[0;34m=\u001b[0m \u001b[0;32mNone\u001b[0m\u001b[0;34m\u001b[0m\u001b[0;34m\u001b[0m\u001b[0m\n\u001b[0;32m-> 1620\u001b[0;31m         \u001b[0mself\u001b[0m\u001b[0;34m.\u001b[0m\u001b[0m_engine\u001b[0m \u001b[0;34m=\u001b[0m \u001b[0mself\u001b[0m\u001b[0;34m.\u001b[0m\u001b[0m_make_engine\u001b[0m\u001b[0;34m(\u001b[0m\u001b[0mf\u001b[0m\u001b[0;34m,\u001b[0m \u001b[0mself\u001b[0m\u001b[0;34m.\u001b[0m\u001b[0mengine\u001b[0m\u001b[0;34m)\u001b[0m\u001b[0;34m\u001b[0m\u001b[0;34m\u001b[0m\u001b[0m\n\u001b[0m\u001b[1;32m   1621\u001b[0m \u001b[0;34m\u001b[0m\u001b[0m\n\u001b[1;32m   1622\u001b[0m     \u001b[0;32mdef\u001b[0m \u001b[0mclose\u001b[0m\u001b[0;34m(\u001b[0m\u001b[0mself\u001b[0m\u001b[0;34m)\u001b[0m \u001b[0;34m->\u001b[0m \u001b[0;32mNone\u001b[0m\u001b[0;34m:\u001b[0m\u001b[0;34m\u001b[0m\u001b[0;34m\u001b[0m\u001b[0m\n",
            "\u001b[0;32m/usr/local/lib/python3.11/dist-packages/pandas/io/parsers/readers.py\u001b[0m in \u001b[0;36m_make_engine\u001b[0;34m(self, f, engine)\u001b[0m\n\u001b[1;32m   1878\u001b[0m                 \u001b[0;32mif\u001b[0m \u001b[0;34m\"b\"\u001b[0m \u001b[0;32mnot\u001b[0m \u001b[0;32min\u001b[0m \u001b[0mmode\u001b[0m\u001b[0;34m:\u001b[0m\u001b[0;34m\u001b[0m\u001b[0;34m\u001b[0m\u001b[0m\n\u001b[1;32m   1879\u001b[0m                     \u001b[0mmode\u001b[0m \u001b[0;34m+=\u001b[0m \u001b[0;34m\"b\"\u001b[0m\u001b[0;34m\u001b[0m\u001b[0;34m\u001b[0m\u001b[0m\n\u001b[0;32m-> 1880\u001b[0;31m             self.handles = get_handle(\n\u001b[0m\u001b[1;32m   1881\u001b[0m                 \u001b[0mf\u001b[0m\u001b[0;34m,\u001b[0m\u001b[0;34m\u001b[0m\u001b[0;34m\u001b[0m\u001b[0m\n\u001b[1;32m   1882\u001b[0m                 \u001b[0mmode\u001b[0m\u001b[0;34m,\u001b[0m\u001b[0;34m\u001b[0m\u001b[0;34m\u001b[0m\u001b[0m\n",
            "\u001b[0;32m/usr/local/lib/python3.11/dist-packages/pandas/io/common.py\u001b[0m in \u001b[0;36mget_handle\u001b[0;34m(path_or_buf, mode, encoding, compression, memory_map, is_text, errors, storage_options)\u001b[0m\n\u001b[1;32m    871\u001b[0m         \u001b[0;32mif\u001b[0m \u001b[0mioargs\u001b[0m\u001b[0;34m.\u001b[0m\u001b[0mencoding\u001b[0m \u001b[0;32mand\u001b[0m \u001b[0;34m\"b\"\u001b[0m \u001b[0;32mnot\u001b[0m \u001b[0;32min\u001b[0m \u001b[0mioargs\u001b[0m\u001b[0;34m.\u001b[0m\u001b[0mmode\u001b[0m\u001b[0;34m:\u001b[0m\u001b[0;34m\u001b[0m\u001b[0;34m\u001b[0m\u001b[0m\n\u001b[1;32m    872\u001b[0m             \u001b[0;31m# Encoding\u001b[0m\u001b[0;34m\u001b[0m\u001b[0;34m\u001b[0m\u001b[0m\n\u001b[0;32m--> 873\u001b[0;31m             handle = open(\n\u001b[0m\u001b[1;32m    874\u001b[0m                 \u001b[0mhandle\u001b[0m\u001b[0;34m,\u001b[0m\u001b[0;34m\u001b[0m\u001b[0;34m\u001b[0m\u001b[0m\n\u001b[1;32m    875\u001b[0m                 \u001b[0mioargs\u001b[0m\u001b[0;34m.\u001b[0m\u001b[0mmode\u001b[0m\u001b[0;34m,\u001b[0m\u001b[0;34m\u001b[0m\u001b[0;34m\u001b[0m\u001b[0m\n",
            "\u001b[0;31mFileNotFoundError\u001b[0m: [Errno 2] No such file or directory: 'your_file.csv'"
          ]
        }
      ]
    },
    {
      "cell_type": "markdown",
      "source": [
        "13. Create a 3D scatter plot using plotly."
      ],
      "metadata": {
        "id": "KnKyWKke6cwt"
      }
    },
    {
      "cell_type": "code",
      "source": [
        "import plotly.express as px\n",
        "import pandas as pd\n",
        "\n",
        "# Sample data\n",
        "df = pd.DataFrame({\n",
        "    'x': [1, 2, 3, 4, 5],\n",
        "    'y': [10, 11, 12, 13, 14],\n",
        "    'z': [5, 4, 3, 2, 1],\n",
        "    'color': ['A', 'B', 'A', 'B', 'A']\n",
        "})\n",
        "\n",
        "# Create 3D scatter plot\n",
        "fig = px.scatter_3d(df, x='x', y='y', z='z', color='color', title='3D Scatter Plot')\n",
        "\n",
        "fig.show()\n"
      ],
      "metadata": {
        "colab": {
          "base_uri": "https://localhost:8080/",
          "height": 542
        },
        "id": "8gJICe_sPum_",
        "outputId": "17544c1d-309e-4960-bf0d-6b1c7b52491e"
      },
      "execution_count": null,
      "outputs": [
        {
          "output_type": "display_data",
          "data": {
            "text/html": [
              "<html>\n",
              "<head><meta charset=\"utf-8\" /></head>\n",
              "<body>\n",
              "    <div>            <script src=\"https://cdnjs.cloudflare.com/ajax/libs/mathjax/2.7.5/MathJax.js?config=TeX-AMS-MML_SVG\"></script><script type=\"text/javascript\">if (window.MathJax && window.MathJax.Hub && window.MathJax.Hub.Config) {window.MathJax.Hub.Config({SVG: {font: \"STIX-Web\"}});}</script>                <script type=\"text/javascript\">window.PlotlyConfig = {MathJaxConfig: 'local'};</script>\n",
              "        <script charset=\"utf-8\" src=\"https://cdn.plot.ly/plotly-2.35.2.min.js\"></script>                <div id=\"32dfbc9d-bc9c-4858-bc27-3d73ef388c9d\" class=\"plotly-graph-div\" style=\"height:525px; width:100%;\"></div>            <script type=\"text/javascript\">                                    window.PLOTLYENV=window.PLOTLYENV || {};                                    if (document.getElementById(\"32dfbc9d-bc9c-4858-bc27-3d73ef388c9d\")) {                    Plotly.newPlot(                        \"32dfbc9d-bc9c-4858-bc27-3d73ef388c9d\",                        [{\"hovertemplate\":\"color=A\\u003cbr\\u003ex=%{x}\\u003cbr\\u003ey=%{y}\\u003cbr\\u003ez=%{z}\\u003cextra\\u003e\\u003c\\u002fextra\\u003e\",\"legendgroup\":\"A\",\"marker\":{\"color\":\"#636efa\",\"symbol\":\"circle\"},\"mode\":\"markers\",\"name\":\"A\",\"scene\":\"scene\",\"showlegend\":true,\"x\":[1,3,5],\"y\":[10,12,14],\"z\":[5,3,1],\"type\":\"scatter3d\"},{\"hovertemplate\":\"color=B\\u003cbr\\u003ex=%{x}\\u003cbr\\u003ey=%{y}\\u003cbr\\u003ez=%{z}\\u003cextra\\u003e\\u003c\\u002fextra\\u003e\",\"legendgroup\":\"B\",\"marker\":{\"color\":\"#EF553B\",\"symbol\":\"circle\"},\"mode\":\"markers\",\"name\":\"B\",\"scene\":\"scene\",\"showlegend\":true,\"x\":[2,4],\"y\":[11,13],\"z\":[4,2],\"type\":\"scatter3d\"}],                        {\"template\":{\"data\":{\"histogram2dcontour\":[{\"type\":\"histogram2dcontour\",\"colorbar\":{\"outlinewidth\":0,\"ticks\":\"\"},\"colorscale\":[[0.0,\"#0d0887\"],[0.1111111111111111,\"#46039f\"],[0.2222222222222222,\"#7201a8\"],[0.3333333333333333,\"#9c179e\"],[0.4444444444444444,\"#bd3786\"],[0.5555555555555556,\"#d8576b\"],[0.6666666666666666,\"#ed7953\"],[0.7777777777777778,\"#fb9f3a\"],[0.8888888888888888,\"#fdca26\"],[1.0,\"#f0f921\"]]}],\"choropleth\":[{\"type\":\"choropleth\",\"colorbar\":{\"outlinewidth\":0,\"ticks\":\"\"}}],\"histogram2d\":[{\"type\":\"histogram2d\",\"colorbar\":{\"outlinewidth\":0,\"ticks\":\"\"},\"colorscale\":[[0.0,\"#0d0887\"],[0.1111111111111111,\"#46039f\"],[0.2222222222222222,\"#7201a8\"],[0.3333333333333333,\"#9c179e\"],[0.4444444444444444,\"#bd3786\"],[0.5555555555555556,\"#d8576b\"],[0.6666666666666666,\"#ed7953\"],[0.7777777777777778,\"#fb9f3a\"],[0.8888888888888888,\"#fdca26\"],[1.0,\"#f0f921\"]]}],\"heatmap\":[{\"type\":\"heatmap\",\"colorbar\":{\"outlinewidth\":0,\"ticks\":\"\"},\"colorscale\":[[0.0,\"#0d0887\"],[0.1111111111111111,\"#46039f\"],[0.2222222222222222,\"#7201a8\"],[0.3333333333333333,\"#9c179e\"],[0.4444444444444444,\"#bd3786\"],[0.5555555555555556,\"#d8576b\"],[0.6666666666666666,\"#ed7953\"],[0.7777777777777778,\"#fb9f3a\"],[0.8888888888888888,\"#fdca26\"],[1.0,\"#f0f921\"]]}],\"heatmapgl\":[{\"type\":\"heatmapgl\",\"colorbar\":{\"outlinewidth\":0,\"ticks\":\"\"},\"colorscale\":[[0.0,\"#0d0887\"],[0.1111111111111111,\"#46039f\"],[0.2222222222222222,\"#7201a8\"],[0.3333333333333333,\"#9c179e\"],[0.4444444444444444,\"#bd3786\"],[0.5555555555555556,\"#d8576b\"],[0.6666666666666666,\"#ed7953\"],[0.7777777777777778,\"#fb9f3a\"],[0.8888888888888888,\"#fdca26\"],[1.0,\"#f0f921\"]]}],\"contourcarpet\":[{\"type\":\"contourcarpet\",\"colorbar\":{\"outlinewidth\":0,\"ticks\":\"\"}}],\"contour\":[{\"type\":\"contour\",\"colorbar\":{\"outlinewidth\":0,\"ticks\":\"\"},\"colorscale\":[[0.0,\"#0d0887\"],[0.1111111111111111,\"#46039f\"],[0.2222222222222222,\"#7201a8\"],[0.3333333333333333,\"#9c179e\"],[0.4444444444444444,\"#bd3786\"],[0.5555555555555556,\"#d8576b\"],[0.6666666666666666,\"#ed7953\"],[0.7777777777777778,\"#fb9f3a\"],[0.8888888888888888,\"#fdca26\"],[1.0,\"#f0f921\"]]}],\"surface\":[{\"type\":\"surface\",\"colorbar\":{\"outlinewidth\":0,\"ticks\":\"\"},\"colorscale\":[[0.0,\"#0d0887\"],[0.1111111111111111,\"#46039f\"],[0.2222222222222222,\"#7201a8\"],[0.3333333333333333,\"#9c179e\"],[0.4444444444444444,\"#bd3786\"],[0.5555555555555556,\"#d8576b\"],[0.6666666666666666,\"#ed7953\"],[0.7777777777777778,\"#fb9f3a\"],[0.8888888888888888,\"#fdca26\"],[1.0,\"#f0f921\"]]}],\"mesh3d\":[{\"type\":\"mesh3d\",\"colorbar\":{\"outlinewidth\":0,\"ticks\":\"\"}}],\"scatter\":[{\"fillpattern\":{\"fillmode\":\"overlay\",\"size\":10,\"solidity\":0.2},\"type\":\"scatter\"}],\"parcoords\":[{\"type\":\"parcoords\",\"line\":{\"colorbar\":{\"outlinewidth\":0,\"ticks\":\"\"}}}],\"scatterpolargl\":[{\"type\":\"scatterpolargl\",\"marker\":{\"colorbar\":{\"outlinewidth\":0,\"ticks\":\"\"}}}],\"bar\":[{\"error_x\":{\"color\":\"#2a3f5f\"},\"error_y\":{\"color\":\"#2a3f5f\"},\"marker\":{\"line\":{\"color\":\"#E5ECF6\",\"width\":0.5},\"pattern\":{\"fillmode\":\"overlay\",\"size\":10,\"solidity\":0.2}},\"type\":\"bar\"}],\"scattergeo\":[{\"type\":\"scattergeo\",\"marker\":{\"colorbar\":{\"outlinewidth\":0,\"ticks\":\"\"}}}],\"scatterpolar\":[{\"type\":\"scatterpolar\",\"marker\":{\"colorbar\":{\"outlinewidth\":0,\"ticks\":\"\"}}}],\"histogram\":[{\"marker\":{\"pattern\":{\"fillmode\":\"overlay\",\"size\":10,\"solidity\":0.2}},\"type\":\"histogram\"}],\"scattergl\":[{\"type\":\"scattergl\",\"marker\":{\"colorbar\":{\"outlinewidth\":0,\"ticks\":\"\"}}}],\"scatter3d\":[{\"type\":\"scatter3d\",\"line\":{\"colorbar\":{\"outlinewidth\":0,\"ticks\":\"\"}},\"marker\":{\"colorbar\":{\"outlinewidth\":0,\"ticks\":\"\"}}}],\"scattermapbox\":[{\"type\":\"scattermapbox\",\"marker\":{\"colorbar\":{\"outlinewidth\":0,\"ticks\":\"\"}}}],\"scatterternary\":[{\"type\":\"scatterternary\",\"marker\":{\"colorbar\":{\"outlinewidth\":0,\"ticks\":\"\"}}}],\"scattercarpet\":[{\"type\":\"scattercarpet\",\"marker\":{\"colorbar\":{\"outlinewidth\":0,\"ticks\":\"\"}}}],\"carpet\":[{\"aaxis\":{\"endlinecolor\":\"#2a3f5f\",\"gridcolor\":\"white\",\"linecolor\":\"white\",\"minorgridcolor\":\"white\",\"startlinecolor\":\"#2a3f5f\"},\"baxis\":{\"endlinecolor\":\"#2a3f5f\",\"gridcolor\":\"white\",\"linecolor\":\"white\",\"minorgridcolor\":\"white\",\"startlinecolor\":\"#2a3f5f\"},\"type\":\"carpet\"}],\"table\":[{\"cells\":{\"fill\":{\"color\":\"#EBF0F8\"},\"line\":{\"color\":\"white\"}},\"header\":{\"fill\":{\"color\":\"#C8D4E3\"},\"line\":{\"color\":\"white\"}},\"type\":\"table\"}],\"barpolar\":[{\"marker\":{\"line\":{\"color\":\"#E5ECF6\",\"width\":0.5},\"pattern\":{\"fillmode\":\"overlay\",\"size\":10,\"solidity\":0.2}},\"type\":\"barpolar\"}],\"pie\":[{\"automargin\":true,\"type\":\"pie\"}]},\"layout\":{\"autotypenumbers\":\"strict\",\"colorway\":[\"#636efa\",\"#EF553B\",\"#00cc96\",\"#ab63fa\",\"#FFA15A\",\"#19d3f3\",\"#FF6692\",\"#B6E880\",\"#FF97FF\",\"#FECB52\"],\"font\":{\"color\":\"#2a3f5f\"},\"hovermode\":\"closest\",\"hoverlabel\":{\"align\":\"left\"},\"paper_bgcolor\":\"white\",\"plot_bgcolor\":\"#E5ECF6\",\"polar\":{\"bgcolor\":\"#E5ECF6\",\"angularaxis\":{\"gridcolor\":\"white\",\"linecolor\":\"white\",\"ticks\":\"\"},\"radialaxis\":{\"gridcolor\":\"white\",\"linecolor\":\"white\",\"ticks\":\"\"}},\"ternary\":{\"bgcolor\":\"#E5ECF6\",\"aaxis\":{\"gridcolor\":\"white\",\"linecolor\":\"white\",\"ticks\":\"\"},\"baxis\":{\"gridcolor\":\"white\",\"linecolor\":\"white\",\"ticks\":\"\"},\"caxis\":{\"gridcolor\":\"white\",\"linecolor\":\"white\",\"ticks\":\"\"}},\"coloraxis\":{\"colorbar\":{\"outlinewidth\":0,\"ticks\":\"\"}},\"colorscale\":{\"sequential\":[[0.0,\"#0d0887\"],[0.1111111111111111,\"#46039f\"],[0.2222222222222222,\"#7201a8\"],[0.3333333333333333,\"#9c179e\"],[0.4444444444444444,\"#bd3786\"],[0.5555555555555556,\"#d8576b\"],[0.6666666666666666,\"#ed7953\"],[0.7777777777777778,\"#fb9f3a\"],[0.8888888888888888,\"#fdca26\"],[1.0,\"#f0f921\"]],\"sequentialminus\":[[0.0,\"#0d0887\"],[0.1111111111111111,\"#46039f\"],[0.2222222222222222,\"#7201a8\"],[0.3333333333333333,\"#9c179e\"],[0.4444444444444444,\"#bd3786\"],[0.5555555555555556,\"#d8576b\"],[0.6666666666666666,\"#ed7953\"],[0.7777777777777778,\"#fb9f3a\"],[0.8888888888888888,\"#fdca26\"],[1.0,\"#f0f921\"]],\"diverging\":[[0,\"#8e0152\"],[0.1,\"#c51b7d\"],[0.2,\"#de77ae\"],[0.3,\"#f1b6da\"],[0.4,\"#fde0ef\"],[0.5,\"#f7f7f7\"],[0.6,\"#e6f5d0\"],[0.7,\"#b8e186\"],[0.8,\"#7fbc41\"],[0.9,\"#4d9221\"],[1,\"#276419\"]]},\"xaxis\":{\"gridcolor\":\"white\",\"linecolor\":\"white\",\"ticks\":\"\",\"title\":{\"standoff\":15},\"zerolinecolor\":\"white\",\"automargin\":true,\"zerolinewidth\":2},\"yaxis\":{\"gridcolor\":\"white\",\"linecolor\":\"white\",\"ticks\":\"\",\"title\":{\"standoff\":15},\"zerolinecolor\":\"white\",\"automargin\":true,\"zerolinewidth\":2},\"scene\":{\"xaxis\":{\"backgroundcolor\":\"#E5ECF6\",\"gridcolor\":\"white\",\"linecolor\":\"white\",\"showbackground\":true,\"ticks\":\"\",\"zerolinecolor\":\"white\",\"gridwidth\":2},\"yaxis\":{\"backgroundcolor\":\"#E5ECF6\",\"gridcolor\":\"white\",\"linecolor\":\"white\",\"showbackground\":true,\"ticks\":\"\",\"zerolinecolor\":\"white\",\"gridwidth\":2},\"zaxis\":{\"backgroundcolor\":\"#E5ECF6\",\"gridcolor\":\"white\",\"linecolor\":\"white\",\"showbackground\":true,\"ticks\":\"\",\"zerolinecolor\":\"white\",\"gridwidth\":2}},\"shapedefaults\":{\"line\":{\"color\":\"#2a3f5f\"}},\"annotationdefaults\":{\"arrowcolor\":\"#2a3f5f\",\"arrowhead\":0,\"arrowwidth\":1},\"geo\":{\"bgcolor\":\"white\",\"landcolor\":\"#E5ECF6\",\"subunitcolor\":\"white\",\"showland\":true,\"showlakes\":true,\"lakecolor\":\"white\"},\"title\":{\"x\":0.05},\"mapbox\":{\"style\":\"light\"}}},\"scene\":{\"domain\":{\"x\":[0.0,1.0],\"y\":[0.0,1.0]},\"xaxis\":{\"title\":{\"text\":\"x\"}},\"yaxis\":{\"title\":{\"text\":\"y\"}},\"zaxis\":{\"title\":{\"text\":\"z\"}}},\"legend\":{\"title\":{\"text\":\"color\"},\"tracegroupgap\":0},\"title\":{\"text\":\"3D Scatter Plot\"}},                        {\"responsive\": true}                    ).then(function(){\n",
              "                            \n",
              "var gd = document.getElementById('32dfbc9d-bc9c-4858-bc27-3d73ef388c9d');\n",
              "var x = new MutationObserver(function (mutations, observer) {{\n",
              "        var display = window.getComputedStyle(gd).display;\n",
              "        if (!display || display === 'none') {{\n",
              "            console.log([gd, 'removed!']);\n",
              "            Plotly.purge(gd);\n",
              "            observer.disconnect();\n",
              "        }}\n",
              "}});\n",
              "\n",
              "// Listen for the removal of the full notebook cells\n",
              "var notebookContainer = gd.closest('#notebook-container');\n",
              "if (notebookContainer) {{\n",
              "    x.observe(notebookContainer, {childList: true});\n",
              "}}\n",
              "\n",
              "// Listen for the clearing of the current output cell\n",
              "var outputEl = gd.closest('.output');\n",
              "if (outputEl) {{\n",
              "    x.observe(outputEl, {childList: true});\n",
              "}}\n",
              "\n",
              "                        })                };                            </script>        </div>\n",
              "</body>\n",
              "</html>"
            ]
          },
          "metadata": {}
        }
      ]
    },
    {
      "cell_type": "code",
      "source": [],
      "metadata": {
        "id": "2fioR0iZ3Ui1"
      },
      "execution_count": null,
      "outputs": []
    }
  ]
}